{
 "cells": [
  {
   "cell_type": "code",
   "execution_count": 1,
   "metadata": {},
   "outputs": [],
   "source": [
    "import sys\n",
    "sys.path.append('../')\n",
    "from helpers import *\n",
    "from models import *"
   ]
  },
  {
   "cell_type": "code",
   "execution_count": null,
   "metadata": {},
   "outputs": [],
   "source": [
    "imgs, classes, tf_img_names = get_images('images/train', infer=False)\n",
    "imgs, classes = transform_input(imgs, classes, infer=False)"
   ]
  },
  {
   "cell_type": "code",
   "execution_count": null,
   "metadata": {},
   "outputs": [],
   "source": [
    "imgs_test, classes_test, tf_img_names_test = get_images('images/test', infer=False)\n",
    "imgs_test, classes_test = transform_input(imgs_test, classes_test, infer=False)"
   ]
  },
  {
   "cell_type": "code",
   "execution_count": null,
   "metadata": {
    "scrolled": true
   },
   "outputs": [],
   "source": [
    "#In test mode the model returns the accuracy. \n",
    "acc = tf_lenet_model(imgs_test, classes_test, 'test')"
   ]
  },
  {
   "cell_type": "markdown",
   "metadata": {},
   "source": [
    "94% accuracy! This is mainly because of how good nets are for detecting local features and obviously working with the three color channels. As I mentioned before, one way to improve this ratio could be augmenting the images but without rotating the images because for example in the signs with right and left arrows the model could get confused."
   ]
  },
  {
   "cell_type": "code",
   "execution_count": null,
   "metadata": {
    "scrolled": true
   },
   "outputs": [],
   "source": [
    "#Doing inference so we can get the predictions.\n",
    "preds = tf_lenet_model(imgs_test, classes_test, 'infer')"
   ]
  },
  {
   "cell_type": "markdown",
   "metadata": {},
   "source": [
    "## Show all  predictions of the model"
   ]
  },
  {
   "cell_type": "code",
   "execution_count": null,
   "metadata": {},
   "outputs": [],
   "source": [
    "show_predictions(preds, 'images/test', tf_img_names_test)"
   ]
  },
  {
   "cell_type": "code",
   "execution_count": null,
   "metadata": {},
   "outputs": [],
   "source": [
    "predictions_df = pd.DataFrame(preds, columns=['pred']) \n",
    "predictions_df['real'] = np.asarray(classes_test.argmax(axis=1).squeeze())[0]\n",
    "pred_errors = predictions_df[predictions_df['real'] != predictions_df['pred']]"
   ]
  },
  {
   "cell_type": "code",
   "execution_count": null,
   "metadata": {},
   "outputs": [],
   "source": [
    "idx = pred_errors.index\n",
    "img_names_errors = pd.Series(tf_img_names_test)[idx]"
   ]
  },
  {
   "cell_type": "markdown",
   "metadata": {},
   "source": [
    "These are the samples in which the model predicted a wrong class. Some images are not easy to understand, others are just errors probably realted with class inbalance. "
   ]
  },
  {
   "cell_type": "code",
   "execution_count": null,
   "metadata": {},
   "outputs": [],
   "source": [
    "show_predictions(pred_errors['pred'].values, 'images/test', img_names_errors)"
   ]
  },
  {
   "cell_type": "markdown",
   "metadata": {},
   "source": [
    "The model performs really good with this parameters both in the training set and in the test set. We could do more tunning, implement early stopping and if the goal was to get high testing accuracy we could replace tanh activation functions with relu and use a bigger net without downscaling so much the images. "
   ]
  }
 ],
 "metadata": {
  "kernelspec": {
   "display_name": "Python 3",
   "language": "python",
   "name": "python3"
  },
  "language_info": {
   "codemirror_mode": {
    "name": "ipython",
    "version": 3
   },
   "file_extension": ".py",
   "mimetype": "text/x-python",
   "name": "python",
   "nbconvert_exporter": "python",
   "pygments_lexer": "ipython3",
   "version": "3.5.5"
  },
  "widgets": {
   "state": {},
   "version": "1.1.2"
  }
 },
 "nbformat": 4,
 "nbformat_minor": 2
}
