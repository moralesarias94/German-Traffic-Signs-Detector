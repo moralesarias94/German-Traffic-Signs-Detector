{
 "cells": [
  {
   "cell_type": "code",
   "execution_count": 8,
   "metadata": {},
   "outputs": [],
   "source": [
    "import click\n",
    "import matplotlib.pyplot as plt\n",
    "import requests, zipfile, io, os\n",
    "from sklearn.externals import joblib\n",
    "from sklearn.cluster import KMeans\n",
    "import numpy as np\n",
    "import cv2\n",
    "\n",
    "%matplotlib inline"
   ]
  },
  {
   "cell_type": "code",
   "execution_count": 3,
   "metadata": {},
   "outputs": [
    {
     "name": "stdout",
     "output_type": "stream",
     "text": [
      "[[  3.   1.   0.   0.   0.   0.  31.  61.   5.   4.   2.   2.   1.   4.\n",
      "  101.  77.   0.   0.   0.   3.   3.  56. 125.   7.   0.   0.   0.   0.\n",
      "    0.  63.  57.   0.  17.   1.   0.   0.   4.   5.  63.  91. 104.   3.\n",
      "    0.   0.   4.  21.  90. 125.   9.   0.   0.   0.  77. 125.  87.  22.\n",
      "    3.   3.   1.   1.  18.  57.  64.   2.  33.   4.   0.   9.  54.  14.\n",
      "   12.  10. 125.  24.   0.   0.  13.  10.   3.  29.  51.   3.   0.   1.\n",
      "  125. 103.   4.   8.  14.   8.   1.   2.  47.  38.  10.   3.  23.   2.\n",
      "    0.   6.  43.  13.   3.  44. 125.   6.   0.   0.   3.   4.   5. 125.\n",
      "   36.   1.   0.   3.  67. 125.  35.  32.   4.   0.   0.   5.  51. 112.\n",
      "   20.   2.]\n",
      " [ 25.  43.   4.   8.  14.   0.   0.   1. 125. 125.   5.   5.   4.   0.\n",
      "    0.   8.  31.  29.  30. 125.  62.   2.   0.   1.   9.   2.  18. 106.\n",
      "   48.   7.   0.   1.  32.  20.  11.   4.  16.   5.   1.   8. 125.  27.\n",
      "    4.  13.  19.   0.   0.  30.  40.   5.   5. 113. 125.   0.   0.   3.\n",
      "   29.   3.   9.  43.  38.   0.   0.  22.  18. 125.  28.   0.   0.   0.\n",
      "    0.   1.  91. 125.  92.  25.   6.   0.   0.   3.   7.  17.  92. 125.\n",
      "   89.   0.   0.   0.  21.  14.  66.  26.  17.   0.   0.   9.   2.  71.\n",
      "   22.   0.   0.   0.   2.   4.   3.  65. 110.   6.   1.   1.   2.   7.\n",
      "    0.   3. 125.  58.   4.   1.   0.   0.   0.   2.  89.  31.   0.   0.\n",
      "    0.   0.]\n",
      " [  1.  11.  35.  36.   3.   0.   0.   0.   7.   4.  36. 119.  23.   6.\n",
      "   38.  23.   0.   0.  11.  38.  11.  16. 110.  73.   0.   0.   0.  17.\n",
      "   38.  93.  79.  34.  79.  53.  27.   5.   0.   0.   0.   5. 119.  52.\n",
      "   23.  13.   4.   6.  72. 119.  13.  10.  14.  99.  78.  26. 119.  73.\n",
      "    0.   0.   8. 119.  74.  16.  17.  15.  80.  24.   0.   1.   1.   0.\n",
      "    0.   2. 119. 119.  68.   8.   2.   1.   1.  13.   8.  35. 119. 119.\n",
      "   73.   5.   9.   7.   0.   0.   2.  46.  49.  16.  24.   8.   2.   0.\n",
      "    0.   0.   0.   0.   0.   0.   7.   5.   5.   1.   1.   0.   0.   1.\n",
      "    1.   1.  11.   9.   4.   1.  21.  28.   0.   0.   0.   2.   4.  60.\n",
      "  119.  25.]]\n"
     ]
    }
   ],
   "source": [
    "img = cv2.imread('./sub_set_images/00051.ppm')\n",
    "\n",
    "gray= cv2.cvtColor(img,cv2.COLOR_BGR2GRAY)\n",
    "sift = cv2.xfeatures2d.SIFT_create()\n",
    "kp, des = sift.detectAndCompute(gray,None)\n",
    "print(des)"
   ]
  },
  {
   "cell_type": "code",
   "execution_count": 7,
   "metadata": {},
   "outputs": [],
   "source": [
    "cv2.namedWindow('image', cv2.WINDOW_NORMAL)\n",
    "cv2.imshow('image',img)"
   ]
  },
  {
   "cell_type": "code",
   "execution_count": 12,
   "metadata": {},
   "outputs": [
    {
     "data": {
      "text/plain": [
       "<matplotlib.image.AxesImage at 0x1a1510d1d0>"
      ]
     },
     "execution_count": 12,
     "metadata": {},
     "output_type": "execute_result"
    },
    {
     "data": {
      "image/png": "[encoded data removed]",
      "text/plain": [
       "<Figure size 432x288 with 1 Axes>"
      ]
     },
     "metadata": {},
     "output_type": "display_data"
    }
   ],
   "source": [
    "img2 = img[0:10,0:20,::-1]\n",
    "plt.imshow(img2)"
   ]
  },
  {
   "cell_type": "code",
   "execution_count": null,
   "metadata": {},
   "outputs": [],
   "source": []
  }
 ],
 "metadata": {
  "kernelspec": {
   "display_name": "Python 3",
   "language": "python",
   "name": "python3"
  },
  "language_info": {
   "codemirror_mode": {
    "name": "ipython",
    "version": 3
   },
   "file_extension": ".py",
   "mimetype": "text/x-python",
   "name": "python",
   "nbconvert_exporter": "python",
   "pygments_lexer": "ipython3",
   "version": "3.5.5"
  },
  "widgets": {
   "state": {},
   "version": "1.1.2"
  }
 },
 "nbformat": 4,
 "nbformat_minor": 2
}
