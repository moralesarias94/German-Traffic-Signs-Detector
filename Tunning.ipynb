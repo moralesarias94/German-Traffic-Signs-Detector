{
 "cells": [
  {
   "cell_type": "code",
   "execution_count": 1,
   "metadata": {},
   "outputs": [],
   "source": [
    "from helpers import *\n",
    "from models import *\n",
    "import seaborn as sns\n",
    "import matplotlib.pyplot as plt\n",
    "\n",
    "%matplotlib inline"
   ]
  },
  {
   "cell_type": "markdown",
   "metadata": {},
   "source": [
    "In this notebook I will perform hyperparameter tunning. Display some plots with testing vs training accuracy"
   ]
  },
  {
   "cell_type": "markdown",
   "metadata": {},
   "source": [
    "# Helper functions"
   ]
  },
  {
   "cell_type": "code",
   "execution_count": 2,
   "metadata": {},
   "outputs": [],
   "source": [
    "def get_plot_data_lr(training_lr, testing_lr):\n",
    "    df = pd.DataFrame(training_lr)\n",
    "    df['K'] = kvalues\n",
    "    df = df.set_index('K')\n",
    "    df = df.stack(0).reset_index()\n",
    "    df.columns = ['K', 'C', 'train_accuracy']\n",
    "    df_test = pd.DataFrame(testing_lr)\n",
    "    df_test['K'] = kvalues\n",
    "    df_test = df_test.set_index('K')\n",
    "    df_test = df_test.stack(0).reset_index()\n",
    "    df_test.columns = ['K', 'C', 'test_accuracy']\n",
    "    df['test_accuracy'] = df_test['test_accuracy']\n",
    "    return df\n",
    "\n",
    "def get_plot_data_tf_lr(training_tf_lr, testing_tf_lr):\n",
    "    df2 = pd.DataFrame(training_tf_lr).stack(0).reset_index()\n",
    "    s = df2.apply(lambda x: pd.Series(x[0]),axis=1).stack().reset_index(level=1, drop=True)\n",
    "    s.name = 'train_accuracy'\n",
    "    df2.columns = ['Iterations', 'Learning rate', 'values']\n",
    "    df2 = df2.drop('values', axis=1)\n",
    "    df2 = df2.join(s).reset_index(drop=True)\n",
    "    multip = len(df2)//len(kvalues)\n",
    "    df2['K'] = kvalues * multip\n",
    "    testing = pd.DataFrame(testing_tf_lr).stack(0).reset_index()\n",
    "    df2['test_accuracy'] = testing.apply(lambda x: pd.Series(x[0]),axis=1).stack().reset_index(level=[0,1], drop=True)\n",
    "    return df2"
   ]
  },
  {
   "cell_type": "markdown",
   "metadata": {},
   "source": [
    "# Hyperparameters"
   ]
  },
  {
   "cell_type": "code",
   "execution_count": 19,
   "metadata": {},
   "outputs": [],
   "source": [
    "#I tried with way more hyperparameters but it takes so long so I just reduced them and selected a few that worked well.\n",
    "\n",
    "kvalues = [600, 700]\n",
    "cvalues = [0.1, 0.2, 0.4, 0.5, 0.8, 1, 5, 10]\n",
    "\n",
    "learning_rates = [0.001, 0.01, 0.1]\n",
    "iterations = [100, 150]\n",
    "\n",
    "training_lr = {c:[] for c in cvalues}\n",
    "testing_lr = {c:[] for c in cvalues}\n",
    "training_tf_lr = {lr:{it:[] for it in iterations} for lr in learning_rates}\n",
    "testing_tf_lr = {lr:{it:[] for it in iterations} for lr in learning_rates}\n",
    "training_tf_lenet = {it:[] for it in iterations} \n",
    "testing_tf_lenet = {it:[] for it in iterations}\n",
    "train_dir = 'images/train'\n",
    "test_dir = 'images/test'\n",
    "\n",
    "best_model_lr = None\n",
    "best_model_lr_tf = None\n",
    "best_model_lenet_tf = None\n",
    "best_test_score_lr = 0\n",
    "best_test_score_tf_lr = 0\n",
    "best_test_score_tf_lenet = 0"
   ]
  },
  {
   "cell_type": "markdown",
   "metadata": {},
   "source": [
    "###### Todo: implement verbose mode in the models so the notebook could be cleaner."
   ]
  },
  {
   "cell_type": "markdown",
   "metadata": {},
   "source": [
    "# Tune SKLearn LR Model"
   ]
  },
  {
   "cell_type": "code",
   "execution_count": 4,
   "metadata": {
    "scrolled": true
   },
   "outputs": [
    {
     "name": "stdout",
     "output_type": "stream",
     "text": [
      "Creating kmeans for feature detection.\n",
      "Training accuracy: 0.980088495575 \n",
      "Testing accuracy: 0.739910313901\n",
      "Creating kmeans for feature detection.\n",
      "Training accuracy: 0.988938053097 \n",
      "Testing accuracy: 0.726457399103\n",
      "Creating kmeans for feature detection.\n",
      "Training accuracy: 0.991150442478 \n",
      "Testing accuracy: 0.717488789238\n",
      "Creating kmeans for feature detection.\n",
      "Training accuracy: 0.992256637168 \n",
      "Testing accuracy: 0.717488789238\n",
      "Creating kmeans for feature detection.\n",
      "Training accuracy: 0.993362831858 \n",
      "Testing accuracy: 0.717488789238\n",
      "Creating kmeans for feature detection.\n",
      "Training accuracy: 0.993362831858 \n",
      "Testing accuracy: 0.717488789238\n",
      "Creating kmeans for feature detection.\n",
      "Training accuracy: 0.995575221239 \n",
      "Testing accuracy: 0.699551569507\n",
      "Creating kmeans for feature detection.\n",
      "Training accuracy: 0.995575221239 \n",
      "Testing accuracy: 0.704035874439\n",
      "Creating kmeans for feature detection.\n",
      "Training accuracy: 0.982300884956 \n",
      "Testing accuracy: 0.780269058296\n",
      "Creating kmeans for feature detection.\n",
      "Training accuracy: 0.991150442478 \n",
      "Testing accuracy: 0.766816143498\n",
      "Creating kmeans for feature detection.\n",
      "Training accuracy: 0.994469026549 \n",
      "Testing accuracy: 0.757847533632\n",
      "Creating kmeans for feature detection.\n",
      "Training accuracy: 0.994469026549 \n",
      "Testing accuracy: 0.757847533632\n",
      "Creating kmeans for feature detection.\n",
      "Training accuracy: 0.994469026549 \n",
      "Testing accuracy: 0.757847533632\n",
      "Creating kmeans for feature detection.\n",
      "Training accuracy: 0.995575221239 \n",
      "Testing accuracy: 0.7533632287\n",
      "Creating kmeans for feature detection.\n",
      "Training accuracy: 0.996681415929 \n",
      "Testing accuracy: 0.730941704036\n",
      "Creating kmeans for feature detection.\n",
      "Training accuracy: 0.996681415929 \n",
      "Testing accuracy: 0.730941704036\n"
     ]
    }
   ],
   "source": [
    "for k in kvalues:\n",
    "    for i, c in enumerate(cvalues):\n",
    "        if(i == 0):\n",
    "            kmeans = None    \n",
    "        else:\n",
    "            kmeans = joblib.load(os.path.join(path_to_root,'models/aux/kmeans.sav'))\n",
    "        training_score = lr_model(k, c, train_dir, kmeans)\n",
    "        testing_score, _ = lr_model_test(test_dir)\n",
    "        training_lr[c].append(training_score)\n",
    "        testing_lr[c].append(testing_score)\n",
    "        \n",
    "        if(testing_score>best_test_score_lr):\n",
    "            best_test_score_lr = testing_score\n",
    "            best_model_lr = {'k': k, 'c': c}\n"
   ]
  },
  {
   "cell_type": "code",
   "execution_count": 18,
   "metadata": {},
   "outputs": [
    {
     "data": {
      "text/plain": [
       "{'c': 0.1, 'k': 700}"
      ]
     },
     "execution_count": 18,
     "metadata": {},
     "output_type": "execute_result"
    }
   ],
   "source": [
    "best_model_lr"
   ]
  },
  {
   "cell_type": "markdown",
   "metadata": {},
   "source": [
    "# Tune TF Model"
   ]
  },
  {
   "cell_type": "code",
   "execution_count": 20,
   "metadata": {
    "scrolled": false
   },
   "outputs": [
    {
     "name": "stdout",
     "output_type": "stream",
     "text": [
      "Creating kmeans for feature detection.\n",
      "Iteration: 0001 cost= 0.104921682\n",
      "Tuning completed!\n",
      "Training accuracy: 0.99115\n",
      "INFO:tensorflow:Restoring parameters from /Users/juandanielmorales/Desktop/Kiwi2/German-Traffic-Signs-Detector/models/model2/saved/model2.ckpt\n",
      "Testing accuracy: 0.695067\n",
      "Creating kmeans for feature detection.\n",
      "Iteration: 0001 cost= 0.104996578\n",
      "Tuning completed!\n",
      "Training accuracy: 0.992257\n",
      "INFO:tensorflow:Restoring parameters from /Users/juandanielmorales/Desktop/Kiwi2/German-Traffic-Signs-Detector/models/model2/saved/model2.ckpt\n",
      "Testing accuracy: 0.681614\n",
      "Creating kmeans for feature detection.\n",
      "Iteration: 0001 cost= 0.064203339\n",
      "Tuning completed!\n",
      "Training accuracy: 0.995575\n",
      "INFO:tensorflow:Restoring parameters from /Users/juandanielmorales/Desktop/Kiwi2/German-Traffic-Signs-Detector/models/model2/saved/model2.ckpt\n",
      "Testing accuracy: 0.67713\n",
      "Creating kmeans for feature detection.\n",
      "Iteration: 0001 cost= 0.065866482\n",
      "Tuning completed!\n",
      "Training accuracy: 0.995575\n",
      "INFO:tensorflow:Restoring parameters from /Users/juandanielmorales/Desktop/Kiwi2/German-Traffic-Signs-Detector/models/model2/saved/model2.ckpt\n",
      "Testing accuracy: 0.663677\n",
      "Creating kmeans for feature detection.\n",
      "Iteration: 0001 cost= 0.025241780\n",
      "Tuning completed!\n",
      "Training accuracy: 0.986726\n",
      "INFO:tensorflow:Restoring parameters from /Users/juandanielmorales/Desktop/Kiwi2/German-Traffic-Signs-Detector/models/model2/saved/model2.ckpt\n",
      "Testing accuracy: 0.699552\n",
      "Creating kmeans for feature detection.\n",
      "Iteration: 0001 cost= 0.023950900\n",
      "Tuning completed!\n",
      "Training accuracy: 0.978982\n",
      "INFO:tensorflow:Restoring parameters from /Users/juandanielmorales/Desktop/Kiwi2/German-Traffic-Signs-Detector/models/model2/saved/model2.ckpt\n",
      "Testing accuracy: 0.618834\n",
      "Creating kmeans for feature detection.\n",
      "Iteration: 0001 cost= 0.104941618\n",
      "Tuning completed!\n",
      "Training accuracy: 0.994469\n",
      "INFO:tensorflow:Restoring parameters from /Users/juandanielmorales/Desktop/Kiwi2/German-Traffic-Signs-Detector/models/model2/saved/model2.ckpt\n",
      "Testing accuracy: 0.735426\n",
      "Creating kmeans for feature detection.\n",
      "Iteration: 0001 cost= 0.104503361\n",
      "Tuning completed!\n",
      "Training accuracy: 0.995575\n",
      "INFO:tensorflow:Restoring parameters from /Users/juandanielmorales/Desktop/Kiwi2/German-Traffic-Signs-Detector/models/model2/saved/model2.ckpt\n",
      "Testing accuracy: 0.730942\n",
      "Creating kmeans for feature detection.\n",
      "Iteration: 0001 cost= 0.064566005\n",
      "Tuning completed!\n",
      "Training accuracy: 0.996681\n",
      "INFO:tensorflow:Restoring parameters from /Users/juandanielmorales/Desktop/Kiwi2/German-Traffic-Signs-Detector/models/model2/saved/model2.ckpt\n",
      "Testing accuracy: 0.713004\n",
      "Creating kmeans for feature detection.\n",
      "Iteration: 0001 cost= 0.063308164\n",
      "Tuning completed!\n",
      "Training accuracy: 0.996681\n",
      "INFO:tensorflow:Restoring parameters from /Users/juandanielmorales/Desktop/Kiwi2/German-Traffic-Signs-Detector/models/model2/saved/model2.ckpt\n",
      "Testing accuracy: 0.713004\n",
      "Creating kmeans for feature detection.\n",
      "Iteration: 0001 cost= 0.023449363\n",
      "Tuning completed!\n",
      "Training accuracy: 0.993363\n",
      "INFO:tensorflow:Restoring parameters from /Users/juandanielmorales/Desktop/Kiwi2/German-Traffic-Signs-Detector/models/model2/saved/model2.ckpt\n",
      "Testing accuracy: 0.721973\n",
      "Creating kmeans for feature detection.\n",
      "Iteration: 0001 cost= 0.024518187\n",
      "Tuning completed!\n",
      "Training accuracy: 0.992257\n",
      "INFO:tensorflow:Restoring parameters from /Users/juandanielmorales/Desktop/Kiwi2/German-Traffic-Signs-Detector/models/model2/saved/model2.ckpt\n",
      "Testing accuracy: 0.70852\n"
     ]
    }
   ],
   "source": [
    "for k in kvalues:\n",
    "    for i, lr in enumerate(learning_rates):\n",
    "        for it in iterations:\n",
    "            if(i == 0):\n",
    "                kmeans = None    \n",
    "            else:\n",
    "                kmeans = joblib.load(os.path.join(path_to_root,'models/aux/kmeans_tf.sav'))\n",
    "            training_score = tf_lr_model(k, train_dir, learning_rate=lr, training_iteration=it, display_step=1000,kmeans = kmeans)\n",
    "            testing_score, _ = tf_lr_test(test_dir)\n",
    "            training_tf_lr[lr][it].append(training_score)\n",
    "            testing_tf_lr[lr][it].append(testing_score)\n",
    "\n",
    "            if(testing_score>best_test_score_tf_lr):\n",
    "                best_test_score_tf_lr = testing_score\n",
    "                best_model_tf_lr = {'k': k, 'lr': lr, 'it': it}\n"
   ]
  },
  {
   "cell_type": "code",
   "execution_count": 23,
   "metadata": {},
   "outputs": [
    {
     "data": {
      "text/plain": [
       "{'it': 100, 'k': 700, 'lr': 0.001}"
      ]
     },
     "execution_count": 23,
     "metadata": {},
     "output_type": "execute_result"
    }
   ],
   "source": [
    "best_model_tf_lr"
   ]
  },
  {
   "cell_type": "markdown",
   "metadata": {},
   "source": [
    "# Training and Testing lines for each c and K values "
   ]
  },
  {
   "cell_type": "code",
   "execution_count": 6,
   "metadata": {},
   "outputs": [],
   "source": [
    "lr_data = get_plot_data_lr(training_lr, testing_lr)"
   ]
  },
  {
   "cell_type": "code",
   "execution_count": 7,
   "metadata": {
    "scrolled": true
   },
   "outputs": [
    {
     "data": {
      "image/png": "[encoded data removed]",
      "text/plain": [
       "<Figure size 1728x216 with 8 Axes>"
      ]
     },
     "metadata": {},
     "output_type": "display_data"
    }
   ],
   "source": [
    "g = sns.FacetGrid(lr_data, col='C')\n",
    "g.map(plt.plot, 'K', \"train_accuracy\", color=\"r\")\n",
    "g.map(plt.plot, 'K', \"test_accuracy\", color=\"b\")\n",
    "plt.show()"
   ]
  },
  {
   "cell_type": "code",
   "execution_count": 9,
   "metadata": {},
   "outputs": [],
   "source": [
    "tf_lr_data = get_plot_data_tf_lr(training_tf_lr, testing_tf_lr)"
   ]
  },
  {
   "cell_type": "code",
   "execution_count": 10,
   "metadata": {},
   "outputs": [
    {
     "name": "stdout",
     "output_type": "stream",
     "text": [
      "Best LR model: 0.2 c value,  600.0 k value. 0.9889 Training accuracy, 0.7265 Testing accuracy.\n"
     ]
    }
   ],
   "source": [
    "k, c, train_precision, test_precision = lr_data.iloc[tf_lr_data['test_accuracy'].idxmax()]\n",
    "print('Best LR model: %s c value,  %s k value. %0.4f Training accuracy, %0.4f Testing accuracy.' % (c, k, train_precision, test_precision))"
   ]
  },
  {
   "cell_type": "code",
   "execution_count": 11,
   "metadata": {},
   "outputs": [
    {
     "data": {
      "image/png": "[encoded data removed]",
      "text/plain": [
       "<Figure size 648x432 with 6 Axes>"
      ]
     },
     "metadata": {},
     "output_type": "display_data"
    }
   ],
   "source": [
    "g = sns.FacetGrid(tf_lr_data, col='Learning rate', row='Iterations')\n",
    "g.map(plt.plot, 'K', \"train_accuracy\", color=\"b\")\n",
    "g.map(plt.plot, 'K', \"test_accuracy\", color=\"r\")\n",
    "plt.show()"
   ]
  },
  {
   "cell_type": "code",
   "execution_count": 12,
   "metadata": {},
   "outputs": [
    {
     "name": "stdout",
     "output_type": "stream",
     "text": [
      "Best TF LR model: 100.0 iterations, 0.001 learning rate, 700.0 k value. 0.9945 Training accuracy, 0.7489 Testing accuracy.\n"
     ]
    }
   ],
   "source": [
    "it, lr, train_precision, k, test_precision = tf_lr_data.iloc[tf_lr_data['test_accuracy'].idxmax()]\n",
    "print('Best TF LR model: %s iterations, %s learning rate, %s k value. %0.4f Training accuracy, %0.4f Testing accuracy.' % (it, lr, k, train_precision, test_precision))"
   ]
  },
  {
   "cell_type": "markdown",
   "metadata": {},
   "source": [
    "# Tune LeNet-5 Model"
   ]
  },
  {
   "cell_type": "code",
   "execution_count": 13,
   "metadata": {},
   "outputs": [],
   "source": [
    "imgs_train, labels_train, tf_img_names_train = get_images(train_dir, infer=False)\n",
    "imgs_train, labels_train = transform_input(imgs_train, labels_train, infer=False)\n",
    "#tf_lenet_model(imgs_train, labels_train, 'train', n_epochs=100)"
   ]
  },
  {
   "cell_type": "code",
   "execution_count": 14,
   "metadata": {},
   "outputs": [],
   "source": [
    "imgs_test, labels_test, tf_img_names_test = get_images(test_dir, infer=False)\n",
    "imgs_test, labels_test = transform_input(imgs_test, labels_test, infer=False)\n",
    "#tf_lenet_model(imgs_test, labels_test, 'test')"
   ]
  },
  {
   "cell_type": "code",
   "execution_count": 15,
   "metadata": {},
   "outputs": [
    {
     "name": "stdout",
     "output_type": "stream",
     "text": [
      "Learning rate:  0.001\n",
      "# epochs:  100\n",
      "Training accuracy:  1.0\n",
      "INFO:tensorflow:Restoring parameters from /Users/juandanielmorales/Desktop/Kiwi2/German-Traffic-Signs-Detector/models/model3/saved/model3.ckpt\n",
      "Testing accuracy:  0.938272\n",
      "# epochs:  150\n",
      "Training accuracy:  1.0\n",
      "INFO:tensorflow:Restoring parameters from /Users/juandanielmorales/Desktop/Kiwi2/German-Traffic-Signs-Detector/models/model3/saved/model3.ckpt\n",
      "Testing accuracy:  0.930041\n",
      "Learning rate:  0.01\n",
      "# epochs:  100\n",
      "Training accuracy:  0.981443\n",
      "INFO:tensorflow:Restoring parameters from /Users/juandanielmorales/Desktop/Kiwi2/German-Traffic-Signs-Detector/models/model3/saved/model3.ckpt\n",
      "Testing accuracy:  0.872428\n",
      "# epochs:  150\n",
      "Training accuracy:  0.936082\n",
      "INFO:tensorflow:Restoring parameters from /Users/juandanielmorales/Desktop/Kiwi2/German-Traffic-Signs-Detector/models/model3/saved/model3.ckpt\n",
      "Testing accuracy:  0.868313\n",
      "Learning rate:  0.1\n",
      "# epochs:  100\n",
      "Training accuracy:  0.0762887\n",
      "INFO:tensorflow:Restoring parameters from /Users/juandanielmorales/Desktop/Kiwi2/German-Traffic-Signs-Detector/models/model3/saved/model3.ckpt\n",
      "Testing accuracy:  0.0781893\n",
      "# epochs:  150\n",
      "Training accuracy:  0.0731959\n",
      "INFO:tensorflow:Restoring parameters from /Users/juandanielmorales/Desktop/Kiwi2/German-Traffic-Signs-Detector/models/model3/saved/model3.ckpt\n",
      "Testing accuracy:  0.0864198\n"
     ]
    }
   ],
   "source": [
    "for lr in learning_rates:\n",
    "    print('Learning rate: ',lr)\n",
    "    for epoch in iterations:\n",
    "        print('# epochs: ' ,epoch)\n",
    "        training_score = tf_lenet_model(imgs_train, labels_train, lr=lr, n_epochs=epoch, mode='train', verbose=False)\n",
    "        testing_score = tf_lenet_model(imgs_test, labels_test, lr=lr, n_epochs=epoch, mode='test')\n",
    "        training_tf_lenet[epoch].append(training_score)\n",
    "        testing_tf_lenet[epoch].append(testing_score)\n",
    "\n",
    "        if(testing_score>best_test_score_tf_lenet):\n",
    "            best_test_score_tf_lenet = testing_score\n",
    "            best_model_lenet_tf = {'lr': lr, 'epoch':epoch}"
   ]
  },
  {
   "cell_type": "code",
   "execution_count": 16,
   "metadata": {},
   "outputs": [
    {
     "data": {
      "text/plain": [
       "{'epoch': 100, 'lr': 0.001}"
      ]
     },
     "execution_count": 16,
     "metadata": {},
     "output_type": "execute_result"
    }
   ],
   "source": [
    "best_model_lenet_tf"
   ]
  }
 ],
 "metadata": {
  "kernelspec": {
   "display_name": "Python 3",
   "language": "python",
   "name": "python3"
  },
  "language_info": {
   "codemirror_mode": {
    "name": "ipython",
    "version": 3
   },
   "file_extension": ".py",
   "mimetype": "text/x-python",
   "name": "python",
   "nbconvert_exporter": "python",
   "pygments_lexer": "ipython3",
   "version": "3.5.5"
  },
  "widgets": {
   "state": {},
   "version": "1.1.2"
  }
 },
 "nbformat": 4,
 "nbformat_minor": 2
}
